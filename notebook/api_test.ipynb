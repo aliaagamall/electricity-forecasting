{
  "cells": [
    {
      "cell_type": "code",
      "execution_count": null,
      "metadata": {},
      "outputs": [],
      "source": [
        "import requests\n",
        "from src.config import Config"
      ]
    },
    {
      "cell_type": "code",
      "execution_count": null,
      "metadata": {
        "colab": {
          "base_uri": "https://localhost:8080/"
        },
        "id": "t5gjEB73Mn6Q",
        "outputId": "dc791ea4-1bdf-4710-84e9-78c4abcf54c6"
      },
      "outputs": [
        {
          "name": "stdout",
          "output_type": "stream",
          "text": [
            "Next Prediction: {'prediction': -0.09763858336118325}\n",
            "Multiple Predictions: {'predictions': [-0.09763858336118325, -0.08645036114345617, -0.07076217403136731, -0.05108818084823308, -0.029689435132618014]}\n"
          ]
        }
      ],
      "source": [
        "base_url = \"http://127.0.0.1:8000\"\n",
        "file_path = Config.test_data_path  \n",
        "\n",
        "res1 = requests.post(f\"{base_url}/api/predict/next\", json={\"file_path\": file_path})\n",
        "print(\"Next Prediction:\", res1.json())\n",
        "\n",
        "res2 = requests.post(f\"{base_url}/api/predict/multiple\", json={\"file_path\": file_path, \"n_steps\": 5})\n",
        "print(\"Multiple Predictions:\", res2.json())"
      ]
    },
    {
      "cell_type": "code",
      "execution_count": null,
      "metadata": {
        "id": "X4EMBnNaM24D"
      },
      "outputs": [],
      "source": []
    }
  ],
  "metadata": {
    "colab": {
      "provenance": []
    },
    "kernelspec": {
      "display_name": "base",
      "language": "python",
      "name": "python3"
    },
    "language_info": {
      "name": "python",
      "version": "3.11.7"
    }
  },
  "nbformat": 4,
  "nbformat_minor": 0
}
